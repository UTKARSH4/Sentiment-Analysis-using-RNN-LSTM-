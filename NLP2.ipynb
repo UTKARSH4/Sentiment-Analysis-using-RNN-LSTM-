{
 "cells": [
  {
   "cell_type": "code",
   "execution_count": 64,
   "metadata": {
    "scrolled": true
   },
   "outputs": [
    {
     "name": "stderr",
     "output_type": "stream",
     "text": [
      "[nltk_data] Downloading package wordnet to\n",
      "[nltk_data]     /Users/utkarsh.verma/nltk_data...\n",
      "[nltk_data]   Package wordnet is already up-to-date!\n"
     ]
    }
   ],
   "source": [
    "import pandas as pd\n",
    "import csv\n",
    "import numpy as np\n",
    "import nltk\n",
    "from nltk.stem import WordNetLemmatizer\n",
    "from nltk.corpus import stopwords\n",
    "import nltk\n",
    "nltk.download('wordnet')\n",
    "review1 = pd.read_csv('sentiment-analysis-on-movie-reviews/train.csv')\n",
    "review = review1.iloc[0:4000]\n",
    "test = review1.iloc[4001:4200] \n",
    "\n",
    "### storing test set\n",
    "\n",
    "y_test=np.asarray(test.Sentiment, dtype=int)\n",
    "x_test=np.asarray(test.Phrase)\n",
    "\n",
    "### storing training set\n",
    "\n",
    "y_train=np.asarray(review.Sentiment, dtype=int)\n",
    "x_train=review.Phrase"
   ]
  },
  {
   "cell_type": "code",
   "execution_count": 20,
   "metadata": {},
   "outputs": [],
   "source": [
    "### processing the glove dataset to get embedding vector\n",
    "\n",
    "def read_glove_vecs(glove_file):\n",
    "    with open(glove_file, 'r',encoding='utf-8') as f:\n",
    "        words = set()\n",
    "        word_to_vec_map = {}\n",
    "        for line in f:\n",
    "            line = line.strip().split()\n",
    "            curr_word = line[0]\n",
    "            words.add(curr_word)\n",
    "            word_to_vec_map[curr_word] = np.array(line[1:], dtype=np.float64)\n",
    "        \n",
    "        i = 1\n",
    "        words_to_index = {}\n",
    "        index_to_words = {}\n",
    "        for w in sorted(words):\n",
    "            words_to_index[w] = i\n",
    "            index_to_words[i] = w\n",
    "            i = i + 1\n",
    "    return words_to_index, index_to_words, word_to_vec_map"
   ]
  },
  {
   "cell_type": "code",
   "execution_count": 21,
   "metadata": {},
   "outputs": [],
   "source": [
    "### getting/storing the embedding vector\n",
    "\n",
    "words_to_index, index_to_words, word_to_vec_map = read_glove_vecs(\"sentiment-analysis-on-movie-reviews/glove.6B.50d.txt\")"
   ]
  },
  {
   "cell_type": "code",
   "execution_count": 22,
   "metadata": {},
   "outputs": [],
   "source": [
    "### softmax function\n",
    "\n",
    "def softmax(vector):\n",
    "\te = np.exp(vector)\n",
    "\treturn e / e.sum()"
   ]
  },
  {
   "cell_type": "code",
   "execution_count": 23,
   "metadata": {},
   "outputs": [],
   "source": [
    "### RNN Model to learn\n",
    "\n",
    "def model(x_train,y_train,word_to_vec_map,learning_rate=0.001,ite=800):\n",
    "    #forward propagation\n",
    "    C=5\n",
    "    n_y=5\n",
    "    b = np.zeros((5,1))\n",
    "    W = np.random.randn(5, 50) / np.sqrt(50)\n",
    "    Y_oh = convert_to_one_hot(y_train,C)\n",
    "    for t in range(ite):                       \n",
    "        for i in range(x_train.shape[0]):                                \n",
    "            avg = avgvec(x_train[i], word_to_vec_map)\n",
    "            z = np.dot(W,avg.reshape(50,1))+ b \n",
    "            a = softmax(z)\n",
    "            # Compute cost using the i'th training label's one hot representation and \"A\" (the output of the softmax)\n",
    "            cost = -Y_oh[i]*np.log(a)\n",
    "            # Compute gradients \n",
    "            dz = a.reshape(5,1) - Y_oh[i].reshape(5,1)\n",
    "            dW = np.dot(dz.reshape(n_y,1), avg.reshape(1, 50))\n",
    "            db = dz\n",
    "\n",
    "            # Update parameters with Stochastic Gradient Descent\n",
    "            W = W - learning_rate * dW\n",
    "            b = b - learning_rate * db\n",
    "        \n",
    "        if t % 100 == 0:\n",
    "            print(\"Epoch: \" + str(t) + \" --- cost = \" + str(cost))\n",
    "            pred = predict(x_train, y_train, W, b, word_to_vec_map)\n",
    "    return W, b, pred         "
   ]
  },
  {
   "cell_type": "code",
   "execution_count": 24,
   "metadata": {},
   "outputs": [],
   "source": [
    "### onehot encoding for y\n",
    "\n",
    "def convert_to_one_hot(Y, C):\n",
    "    #Y= np.asarray(Y, dtype=int)\n",
    "    Y = np.eye(C)[Y.reshape(-1)]\n",
    "    return Y"
   ]
  },
  {
   "cell_type": "code",
   "execution_count": 98,
   "metadata": {},
   "outputs": [],
   "source": [
    "def predict(x_test,y_test,W,b,word_to_vec_map):\n",
    "    #x_test=x_test.apply(lambda x: x.lower().split())\n",
    "    pred=np.zeros((y_test.shape[0],1))\n",
    "    for i in range(y_test.shape[0]):\n",
    "        avg = avgvec(x_test[i], word_to_vec_map)\n",
    "        z = np.dot(W,avg.reshape(50,1)) + b\n",
    "        a = softmax(z)\n",
    "        pred[i] = np.argmax(a)\n",
    "        \n",
    "    print(\"Accuracy: \"  + str(np.mean((pred[:] == y_test.reshape(y_test.shape[0],1)[:]))))\n",
    "    \n",
    "    return pred   "
   ]
  },
  {
   "cell_type": "code",
   "execution_count": 33,
   "metadata": {},
   "outputs": [],
   "source": [
    "### average of the sentence\n",
    "\n",
    "def avgvec(sent,word_to_vec_map):\n",
    "    lemmatizer = WordNetLemmatizer()\n",
    "    sent = sent.lower()\n",
    "    #sent = re.sub('[^a-zA-Z]','',)\n",
    "    words = nltk.word_tokenize(sent)\n",
    "    words = [lemmatizer.lemmatize(word) for word in words if word not in set(stopwords.words('english'))]\n",
    "    avg = np.zeros(word_to_vec_map[\"no\"].shape)\n",
    "    xword=['substitutable','self-glorification','shiver-inducing','nerve-rattling','hell-jaunt','-lrb-','-rrb-','oscar-size','right-thinking','ham-fisted','middle-agers','#name?','through-line','non-techies','writer\\\\/director','second-guess','monsterous','fillm','over-indulgent','self-glorified','forgettably','candy-coat','screwed-up','pulpiness','ultra-cheesy','all-enveloping','tryingly','windtalker','tatter']\n",
    "    for w in words:\n",
    "        if w not in xword:\n",
    "            avg += word_to_vec_map[w]\n",
    "    if len(words)>0:       \n",
    "        avg = avg/float(len(words))\n",
    "    return avg"
   ]
  },
  {
   "cell_type": "code",
   "execution_count": 34,
   "metadata": {},
   "outputs": [
    {
     "name": "stdout",
     "output_type": "stream",
     "text": [
      "Epoch: 0 --- cost = [[0.         0.         2.07507291 0.         0.        ]\n",
      " [0.         0.         1.6720141  0.         0.        ]\n",
      " [0.         0.         1.02432776 0.         0.        ]\n",
      " [0.         0.         1.65092769 0.         0.        ]\n",
      " [0.         0.         1.99749402 0.         0.        ]]\n",
      "Accuracy: 0.5775\n",
      "Epoch: 100 --- cost = [[0.         0.         4.14784182 0.         0.        ]\n",
      " [0.         0.         2.69339109 0.         0.        ]\n",
      " [0.         0.         0.1853502  0.         0.        ]\n",
      " [0.         0.         2.57654327 0.         0.        ]\n",
      " [0.         0.         4.63555548 0.         0.        ]]\n",
      "Accuracy: 0.60925\n",
      "Epoch: 200 --- cost = [[0.         0.         4.35957541 0.         0.        ]\n",
      " [0.         0.         2.66638795 0.         0.        ]\n",
      " [0.         0.         0.18129103 0.         0.        ]\n",
      " [0.         0.         2.55295792 0.         0.        ]\n",
      " [0.         0.         5.17260638 0.         0.        ]]\n",
      "Accuracy: 0.6105\n",
      "Epoch: 300 --- cost = [[0.         0.         4.40979055 0.         0.        ]\n",
      " [0.         0.         2.66893673 0.         0.        ]\n",
      " [0.         0.         0.18057427 0.         0.        ]\n",
      " [0.         0.         2.53758635 0.         0.        ]\n",
      " [0.         0.         5.36687217 0.         0.        ]]\n",
      "Accuracy: 0.61075\n",
      "Epoch: 400 --- cost = [[0.         0.         4.42004376 0.         0.        ]\n",
      " [0.         0.         2.67681812 0.         0.        ]\n",
      " [0.         0.         0.18057717 0.         0.        ]\n",
      " [0.         0.         2.52495074 0.         0.        ]\n",
      " [0.         0.         5.44123668 0.         0.        ]]\n",
      "Accuracy: 0.6125\n",
      "Epoch: 500 --- cost = [[0.         0.         4.42106204 0.         0.        ]\n",
      " [0.         0.         2.68541124 0.         0.        ]\n",
      " [0.         0.         0.18080084 0.         0.        ]\n",
      " [0.         0.         2.51361171 0.         0.        ]\n",
      " [0.         0.         5.47062877 0.         0.        ]]\n",
      "Accuracy: 0.6145\n",
      "Epoch: 600 --- cost = [[0.         0.         4.42054325 0.         0.        ]\n",
      " [0.         0.         2.69355189 0.         0.        ]\n",
      " [0.         0.         0.1811045  0.         0.        ]\n",
      " [0.         0.         2.5031648  0.         0.        ]\n",
      " [0.         0.         5.48266172 0.         0.        ]]\n",
      "Accuracy: 0.6145\n",
      "Epoch: 700 --- cost = [[0.         0.         4.42021728 0.         0.        ]\n",
      " [0.         0.         2.70097171 0.         0.        ]\n",
      " [0.         0.         0.18143922 0.         0.        ]\n",
      " [0.         0.         2.49346935 0.         0.        ]\n",
      " [0.         0.         5.48793417 0.         0.        ]]\n",
      "Accuracy: 0.61475\n"
     ]
    }
   ],
   "source": [
    "W,b,pred=model(x_train,y_train,word_to_vec_map)"
   ]
  },
  {
   "cell_type": "code",
   "execution_count": 36,
   "metadata": {},
   "outputs": [],
   "source": [
    "###   LSTM model\n",
    "\n",
    "import kerastuner as kt\n",
    "def model_lstm(x_train,words_to_index,word_to_vec_map):\n",
    "    \n",
    "    input_shape = embedding_vector(x_train,words_to_index).shape\n",
    "    input_tensor = Input(shape=(input_shape[1],),dtype='int32')\n",
    "    \n",
    "    vocab_len = len(words_to_index) + 1                  \n",
    "    emb_dim = word_to_vec_map[\"no\"].shape[0]\n",
    "    emb_matrix = np.zeros((vocab_len,emb_dim))\n",
    "    for word, index in words_to_index.items():\n",
    "        emb_matrix[index, :] = word_to_vec_map[word]\n",
    "    embedding_layer = Embedding(vocab_len, emb_dim, trainable = False)\n",
    "    embedding_layer.build((None,))\n",
    "    embedding_layer.set_weights([emb_matrix])\n",
    "    \n",
    "    embeddings = embedding_layer(input_tensor)\n",
    "    #hp_units = hp.Int('units', min_value = 32, max_value = 512, step = 32)\n",
    "    X=LSTM(128, return_sequences=True)(embeddings)\n",
    "    X=Dropout(0.5)(X)\n",
    "    X=LSTM(128, return_sequences=False)(X)\n",
    "    X=Dropout(0.5)(X)\n",
    "    X=Dense(5, activation='softmax')(X)\n",
    "    \n",
    "    \n",
    "    model = Model(inputs=input_tensor, outputs=X)\n",
    "    \n",
    "    return model"
   ]
  },
  {
   "cell_type": "code",
   "execution_count": 35,
   "metadata": {},
   "outputs": [],
   "source": [
    "###  Embedding Vector \n",
    "\n",
    "def embedding_vector(x_train,words_to_index):\n",
    "    xword=['substitutable','self-glorification','shiver-inducing','nerve-rattling','hell-jaunt','-lrb-','-rrb-','oscar-size','right-thinking','ham-fisted','middle-agers','#name?','through-line','non-techies','writer\\\\/director','second-guess','monsterous','fillm','over-indulgent','self-glorified','forgettably','candy-coat','screwed-up','pulpiness','ultra-cheesy','all-enveloping','tryingly','windtalker','tatter']\n",
    "    maxlen = len(max(x_train, key=len).split())\n",
    "    embedding_vec=np.zeros((x_train.shape[0],maxlen))\n",
    "    for i in range(x_train.shape[0]):\n",
    "        sent = x_train[i]\n",
    "        lemmatizer = WordNetLemmatizer()\n",
    "        sent = sent.lower()\n",
    "    #sent = re.sub('[^a-zA-Z]','',)\n",
    "        words = nltk.word_tokenize(sent)\n",
    "        words = [lemmatizer.lemmatize(word) for word in words if word not in set(stopwords.words('english'))]\n",
    "        for j in range(len(words)):\n",
    "                if words[j] not in xword:\n",
    "                    embedding_vec[i][j] = words_to_index[words[j]]\n",
    "    \n",
    "    return embedding_vec    \n",
    "        \n",
    "    "
   ]
  },
  {
   "cell_type": "code",
   "execution_count": 23,
   "metadata": {},
   "outputs": [
    {
     "data": {
      "text/plain": [
       "(4000, 42)"
      ]
     },
     "execution_count": 23,
     "metadata": {},
     "output_type": "execute_result"
    }
   ],
   "source": [
    "embedding_vector(x_train,words_to_index).shape"
   ]
  },
  {
   "cell_type": "code",
   "execution_count": 37,
   "metadata": {},
   "outputs": [
    {
     "name": "stdout",
     "output_type": "stream",
     "text": [
      "Model: \"functional_1\"\n",
      "_________________________________________________________________\n",
      "Layer (type)                 Output Shape              Param #   \n",
      "=================================================================\n",
      "input_1 (InputLayer)         [(None, 42)]              0         \n",
      "_________________________________________________________________\n",
      "embedding (Embedding)        (None, 42, 50)            20000050  \n",
      "_________________________________________________________________\n",
      "lstm (LSTM)                  (None, 42, 128)           91648     \n",
      "_________________________________________________________________\n",
      "dropout (Dropout)            (None, 42, 128)           0         \n",
      "_________________________________________________________________\n",
      "lstm_1 (LSTM)                (None, 128)               131584    \n",
      "_________________________________________________________________\n",
      "dropout_1 (Dropout)          (None, 128)               0         \n",
      "_________________________________________________________________\n",
      "dense (Dense)                (None, 5)                 645       \n",
      "=================================================================\n",
      "Total params: 20,223,927\n",
      "Trainable params: 223,877\n",
      "Non-trainable params: 20,000,050\n",
      "_________________________________________________________________\n"
     ]
    }
   ],
   "source": [
    "from keras.models import Model\n",
    "from keras.layers import Dense, Input, Dropout, LSTM, Activation\n",
    "from keras.layers.embeddings import Embedding\n",
    "from keras.preprocessing import sequence\n",
    "model = model_lstm(x_train,words_to_index,word_to_vec_map)\n",
    "model.summary()"
   ]
  },
  {
   "cell_type": "code",
   "execution_count": 38,
   "metadata": {},
   "outputs": [],
   "source": [
    "model.compile(loss='categorical_crossentropy', optimizer='adam', metrics=['accuracy'])"
   ]
  },
  {
   "cell_type": "code",
   "execution_count": 39,
   "metadata": {},
   "outputs": [],
   "source": [
    "x_train_indices = embedding_vector(x_train,words_to_index)\n",
    "Y_train_oh = convert_to_one_hot(y_train, C = 5)"
   ]
  },
  {
   "cell_type": "code",
   "execution_count": 40,
   "metadata": {},
   "outputs": [
    {
     "name": "stdout",
     "output_type": "stream",
     "text": [
      "Epoch 1/50\n",
      "63/63 [==============================] - 4s 69ms/step - loss: 1.1585 - accuracy: 0.5900\n",
      "Epoch 2/50\n",
      "63/63 [==============================] - 5s 72ms/step - loss: 1.0357 - accuracy: 0.6077\n",
      "Epoch 3/50\n",
      "63/63 [==============================] - 6s 90ms/step - loss: 1.0166 - accuracy: 0.6075\n",
      "Epoch 4/50\n",
      "63/63 [==============================] - 7s 106ms/step - loss: 0.9868 - accuracy: 0.6225\n",
      "Epoch 5/50\n",
      "63/63 [==============================] - 7s 107ms/step - loss: 0.9727 - accuracy: 0.6320\n",
      "Epoch 6/50\n",
      "63/63 [==============================] - 6s 96ms/step - loss: 0.9364 - accuracy: 0.6380\n",
      "Epoch 7/50\n",
      "63/63 [==============================] - 7s 112ms/step - loss: 0.8993 - accuracy: 0.6590\n",
      "Epoch 8/50\n",
      "63/63 [==============================] - 7s 107ms/step - loss: 0.8425 - accuracy: 0.6775\n",
      "Epoch 9/50\n",
      "63/63 [==============================] - 6s 102ms/step - loss: 0.8269 - accuracy: 0.6793\n",
      "Epoch 10/50\n",
      "63/63 [==============================] - 7s 105ms/step - loss: 0.8071 - accuracy: 0.6948\n",
      "Epoch 11/50\n",
      "63/63 [==============================] - 7s 111ms/step - loss: 0.7935 - accuracy: 0.6955\n",
      "Epoch 12/50\n",
      "63/63 [==============================] - 6s 93ms/step - loss: 0.7500 - accuracy: 0.7147\n",
      "Epoch 13/50\n",
      "63/63 [==============================] - 6s 91ms/step - loss: 0.7402 - accuracy: 0.7225\n",
      "Epoch 14/50\n",
      "63/63 [==============================] - 6s 89ms/step - loss: 0.7167 - accuracy: 0.7197\n",
      "Epoch 15/50\n",
      "63/63 [==============================] - 6s 89ms/step - loss: 0.7258 - accuracy: 0.7280\n",
      "Epoch 16/50\n",
      "63/63 [==============================] - 6s 90ms/step - loss: 0.6968 - accuracy: 0.7380\n",
      "Epoch 17/50\n",
      "63/63 [==============================] - 6s 90ms/step - loss: 0.6902 - accuracy: 0.7415\n",
      "Epoch 18/50\n",
      "63/63 [==============================] - 6s 92ms/step - loss: 0.6924 - accuracy: 0.7402\n",
      "Epoch 19/50\n",
      "63/63 [==============================] - 6s 90ms/step - loss: 0.6756 - accuracy: 0.7430\n",
      "Epoch 20/50\n",
      "63/63 [==============================] - 6s 90ms/step - loss: 0.6673 - accuracy: 0.7502\n",
      "Epoch 21/50\n",
      "63/63 [==============================] - 6s 90ms/step - loss: 0.6442 - accuracy: 0.7530\n",
      "Epoch 22/50\n",
      "63/63 [==============================] - 6s 88ms/step - loss: 0.6401 - accuracy: 0.7560\n",
      "Epoch 23/50\n",
      "63/63 [==============================] - 6s 90ms/step - loss: 0.6465 - accuracy: 0.7520\n",
      "Epoch 24/50\n",
      "63/63 [==============================] - 6s 91ms/step - loss: 0.6190 - accuracy: 0.7617\n",
      "Epoch 25/50\n",
      "63/63 [==============================] - 6s 88ms/step - loss: 0.6076 - accuracy: 0.7685\n",
      "Epoch 26/50\n",
      "63/63 [==============================] - 6s 89ms/step - loss: 0.6158 - accuracy: 0.7648\n",
      "Epoch 27/50\n",
      "63/63 [==============================] - 6s 89ms/step - loss: 0.6042 - accuracy: 0.7632\n",
      "Epoch 28/50\n",
      "63/63 [==============================] - 5s 87ms/step - loss: 0.5826 - accuracy: 0.7835\n",
      "Epoch 29/50\n",
      "63/63 [==============================] - 6s 88ms/step - loss: 0.6289 - accuracy: 0.7558\n",
      "Epoch 30/50\n",
      "63/63 [==============================] - 6s 89ms/step - loss: 0.6012 - accuracy: 0.7697\n",
      "Epoch 31/50\n",
      "63/63 [==============================] - 5s 87ms/step - loss: 0.5832 - accuracy: 0.7722\n",
      "Epoch 32/50\n",
      "63/63 [==============================] - 6s 89ms/step - loss: 0.5684 - accuracy: 0.7775\n",
      "Epoch 33/50\n",
      "63/63 [==============================] - 5s 87ms/step - loss: 0.5602 - accuracy: 0.7807\n",
      "Epoch 34/50\n",
      "63/63 [==============================] - 6s 89ms/step - loss: 0.5706 - accuracy: 0.7812\n",
      "Epoch 35/50\n",
      "63/63 [==============================] - 6s 88ms/step - loss: 0.5495 - accuracy: 0.7893\n",
      "Epoch 36/50\n",
      "63/63 [==============================] - 6s 90ms/step - loss: 0.5483 - accuracy: 0.7885\n",
      "Epoch 37/50\n",
      "63/63 [==============================] - 6s 89ms/step - loss: 0.5506 - accuracy: 0.7832\n",
      "Epoch 38/50\n",
      "63/63 [==============================] - 6s 88ms/step - loss: 0.5312 - accuracy: 0.7893\n",
      "Epoch 39/50\n",
      "63/63 [==============================] - 6s 90ms/step - loss: 0.5236 - accuracy: 0.7980\n",
      "Epoch 40/50\n",
      "63/63 [==============================] - 6s 93ms/step - loss: 0.5357 - accuracy: 0.7962\n",
      "Epoch 41/50\n",
      "63/63 [==============================] - 6s 91ms/step - loss: 0.5195 - accuracy: 0.7937\n",
      "Epoch 42/50\n",
      "63/63 [==============================] - 6s 91ms/step - loss: 0.4954 - accuracy: 0.8092\n",
      "Epoch 43/50\n",
      "63/63 [==============================] - 6s 94ms/step - loss: 0.4923 - accuracy: 0.8005\n",
      "Epoch 44/50\n",
      "63/63 [==============================] - 6s 93ms/step - loss: 0.5497 - accuracy: 0.7872\n",
      "Epoch 45/50\n",
      "63/63 [==============================] - 6s 94ms/step - loss: 0.5065 - accuracy: 0.7987\n",
      "Epoch 46/50\n",
      "63/63 [==============================] - 6s 94ms/step - loss: 0.4889 - accuracy: 0.8127\n",
      "Epoch 47/50\n",
      "63/63 [==============================] - 6s 95ms/step - loss: 0.4843 - accuracy: 0.8108\n",
      "Epoch 48/50\n",
      "63/63 [==============================] - 6s 94ms/step - loss: 0.5005 - accuracy: 0.8008\n",
      "Epoch 49/50\n",
      "63/63 [==============================] - 6s 97ms/step - loss: 0.4827 - accuracy: 0.8045\n",
      "Epoch 50/50\n",
      "63/63 [==============================] - 6s 94ms/step - loss: 0.4677 - accuracy: 0.8127\n"
     ]
    }
   ],
   "source": [
    "fit_data=model.fit(x_train_indices, Y_train_oh, epochs = 50, batch_size = 64, shuffle=True)"
   ]
  },
  {
   "cell_type": "code",
   "execution_count": 41,
   "metadata": {},
   "outputs": [
    {
     "name": "stdout",
     "output_type": "stream",
     "text": [
      "WARNING:tensorflow:Model was constructed with shape (None, 42) for input Tensor(\"input_1:0\", shape=(None, 42), dtype=int32), but it was called on an input with incompatible shape (None, 40).\n",
      "7/7 [==============================] - 0s 16ms/step - loss: 1.6387 - accuracy: 0.5477\n",
      "\n",
      "Test accuracy =  0.5477386713027954\n"
     ]
    }
   ],
   "source": [
    "x_test_indices = embedding_vector(x_test,words_to_index)\n",
    "y_test_oh = convert_to_one_hot(y_test, C = 5)\n",
    "loss, acc = model.evaluate(x_test_indices, y_test_oh)\n",
    "print()\n",
    "print(\"Test accuracy = \", acc)"
   ]
  },
  {
   "cell_type": "code",
   "execution_count": 208,
   "metadata": {},
   "outputs": [],
   "source": [
    "input_shape = embedding_vector(x_train,words_to_index).shape\n",
    "vocab_len = len(words_to_index) + 1                  \n",
    "emb_dim = word_to_vec_map[\"no\"].shape[0]\n",
    "emb_matrix = np.zeros((vocab_len,emb_dim))\n",
    "for word, index in words_to_index.items():\n",
    "    emb_matrix[index, :] = word_to_vec_map[word]"
   ]
  },
  {
   "cell_type": "code",
   "execution_count": 214,
   "metadata": {},
   "outputs": [],
   "source": [
    "from kerastuner import HyperModel\n",
    "from tensorflow import keras\n",
    "\n",
    "class CNNHyperModel(HyperModel):\n",
    "\n",
    "    def __init__(self,input_shape, num_classes):\n",
    "        self.input_shape = input_shape\n",
    "        self.num_classes = num_classes\n",
    "\n",
    "    def build(self, hp):\n",
    "        model = keras.Sequential()\n",
    "        input_tensor=Input(shape=(input_shape[1],),dtype='int32')\n",
    "        #model.add(Input(shape=(input_shape[1],),dtype='int32'))\n",
    "        embedding_layer = Embedding(vocab_len, emb_dim, trainable = False)\n",
    "        embedding_layer.build((None,))\n",
    "        embedding_layer.set_weights([emb_matrix])\n",
    "        embeddings = embedding_layer(input_tensor)\n",
    "        model.add(Embedding(input_dim = vocab_len, output_dim = emb_dim, input_length = 42, trainable = False).set_weights([emb_matrix]))\n",
    "        model.add(LSTM(128, return_sequences=True))\n",
    "        model.add(Dropout(rate=hp.Float(\n",
    "                'dropout_1',\n",
    "                min_value=0.0,\n",
    "                max_value=0.5,\n",
    "                default=0.25,\n",
    "                step=0.05,\n",
    "            ))\n",
    "                 )\n",
    "        model.add(LSTM(128, return_sequences=False))\n",
    "        model.add(Dropout(rate=hp.Float(\n",
    "                'dropout_2',\n",
    "                min_value=0.0,\n",
    "                max_value=0.5,\n",
    "                default=0.25,\n",
    "                step=0.05,\n",
    "            ))\n",
    "                 )\n",
    "        model.add(Dense(\n",
    "                units=hp.Int(\n",
    "                    'units',\n",
    "                    min_value=32,\n",
    "                    max_value=512,\n",
    "                    step=32,\n",
    "                    default=128\n",
    "                ),\n",
    "                activation=hp.Choice(\n",
    "                    'dense_activation',\n",
    "                    values=['relu', 'tanh', 'sigmoid'],\n",
    "                    default='relu'\n",
    "                )\n",
    "            )\n",
    "                 )\n",
    "        model.compile(\n",
    "            optimizer=keras.optimizers.Adam(\n",
    "                hp.Choice('learning_rate',\n",
    "                          values=[1e-2, 1e-3, 1e-4])),\n",
    "            loss='sparse_categorical_crossentropy',\n",
    "            metrics=['accuracy'])\n",
    "        return model\n",
    "    \n",
    "hypermodel = CNNHyperModel(input_shape=42, num_classes=5)"
   ]
  },
  {
   "cell_type": "code",
   "execution_count": 215,
   "metadata": {},
   "outputs": [
    {
     "name": "stderr",
     "output_type": "stream",
     "text": [
      "Traceback (most recent call last):\n",
      "  File \"/Users/utkarsh.verma/opt/anaconda3/lib/python3.8/site-packages/kerastuner/engine/hypermodel.py\", line 104, in build\n",
      "    model = self.hypermodel.build(hp)\n",
      "  File \"<ipython-input-214-c477df2ef153>\", line 18, in build\n",
      "    model.add(Embedding(input_dim = vocab_len, output_dim = emb_dim, input_length = 42, trainable = False).set_weights([emb_matrix]))\n",
      "  File \"/Users/utkarsh.verma/opt/anaconda3/lib/python3.8/site-packages/tensorflow/python/keras/engine/base_layer.py\", line 1806, in set_weights\n",
      "    raise ValueError(\n",
      "ValueError: You called `set_weights(weights)` on layer \"embedding_1\" with a weight list of length 1, but the layer was expecting 0 weights. Provided weights: [array([[ 0.      ,  0.      ,  0.      , ...,  0....\n"
     ]
    },
    {
     "name": "stdout",
     "output_type": "stream",
     "text": [
      "Invalid model 0/5\n"
     ]
    },
    {
     "name": "stderr",
     "output_type": "stream",
     "text": [
      "Traceback (most recent call last):\n",
      "  File \"/Users/utkarsh.verma/opt/anaconda3/lib/python3.8/site-packages/kerastuner/engine/hypermodel.py\", line 104, in build\n",
      "    model = self.hypermodel.build(hp)\n",
      "  File \"<ipython-input-214-c477df2ef153>\", line 18, in build\n",
      "    model.add(Embedding(input_dim = vocab_len, output_dim = emb_dim, input_length = 42, trainable = False).set_weights([emb_matrix]))\n",
      "  File \"/Users/utkarsh.verma/opt/anaconda3/lib/python3.8/site-packages/tensorflow/python/keras/engine/base_layer.py\", line 1806, in set_weights\n",
      "    raise ValueError(\n",
      "ValueError: You called `set_weights(weights)` on layer \"embedding_1\" with a weight list of length 1, but the layer was expecting 0 weights. Provided weights: [array([[ 0.      ,  0.      ,  0.      , ...,  0....\n"
     ]
    },
    {
     "name": "stdout",
     "output_type": "stream",
     "text": [
      "Invalid model 1/5\n"
     ]
    },
    {
     "name": "stderr",
     "output_type": "stream",
     "text": [
      "Traceback (most recent call last):\n",
      "  File \"/Users/utkarsh.verma/opt/anaconda3/lib/python3.8/site-packages/kerastuner/engine/hypermodel.py\", line 104, in build\n",
      "    model = self.hypermodel.build(hp)\n",
      "  File \"<ipython-input-214-c477df2ef153>\", line 18, in build\n",
      "    model.add(Embedding(input_dim = vocab_len, output_dim = emb_dim, input_length = 42, trainable = False).set_weights([emb_matrix]))\n",
      "  File \"/Users/utkarsh.verma/opt/anaconda3/lib/python3.8/site-packages/tensorflow/python/keras/engine/base_layer.py\", line 1806, in set_weights\n",
      "    raise ValueError(\n",
      "ValueError: You called `set_weights(weights)` on layer \"embedding_1\" with a weight list of length 1, but the layer was expecting 0 weights. Provided weights: [array([[ 0.      ,  0.      ,  0.      , ...,  0....\n"
     ]
    },
    {
     "name": "stdout",
     "output_type": "stream",
     "text": [
      "Invalid model 2/5\n"
     ]
    },
    {
     "name": "stderr",
     "output_type": "stream",
     "text": [
      "Traceback (most recent call last):\n",
      "  File \"/Users/utkarsh.verma/opt/anaconda3/lib/python3.8/site-packages/kerastuner/engine/hypermodel.py\", line 104, in build\n",
      "    model = self.hypermodel.build(hp)\n",
      "  File \"<ipython-input-214-c477df2ef153>\", line 18, in build\n",
      "    model.add(Embedding(input_dim = vocab_len, output_dim = emb_dim, input_length = 42, trainable = False).set_weights([emb_matrix]))\n",
      "  File \"/Users/utkarsh.verma/opt/anaconda3/lib/python3.8/site-packages/tensorflow/python/keras/engine/base_layer.py\", line 1806, in set_weights\n",
      "    raise ValueError(\n",
      "ValueError: You called `set_weights(weights)` on layer \"embedding_1\" with a weight list of length 1, but the layer was expecting 0 weights. Provided weights: [array([[ 0.      ,  0.      ,  0.      , ...,  0....\n"
     ]
    },
    {
     "name": "stdout",
     "output_type": "stream",
     "text": [
      "Invalid model 3/5\n"
     ]
    },
    {
     "name": "stderr",
     "output_type": "stream",
     "text": [
      "Traceback (most recent call last):\n",
      "  File \"/Users/utkarsh.verma/opt/anaconda3/lib/python3.8/site-packages/kerastuner/engine/hypermodel.py\", line 104, in build\n",
      "    model = self.hypermodel.build(hp)\n",
      "  File \"<ipython-input-214-c477df2ef153>\", line 18, in build\n",
      "    model.add(Embedding(input_dim = vocab_len, output_dim = emb_dim, input_length = 42, trainable = False).set_weights([emb_matrix]))\n",
      "  File \"/Users/utkarsh.verma/opt/anaconda3/lib/python3.8/site-packages/tensorflow/python/keras/engine/base_layer.py\", line 1806, in set_weights\n",
      "    raise ValueError(\n",
      "ValueError: You called `set_weights(weights)` on layer \"embedding_1\" with a weight list of length 1, but the layer was expecting 0 weights. Provided weights: [array([[ 0.      ,  0.      ,  0.      , ...,  0....\n"
     ]
    },
    {
     "name": "stdout",
     "output_type": "stream",
     "text": [
      "Invalid model 4/5\n",
      "Invalid model 5/5\n"
     ]
    },
    {
     "name": "stderr",
     "output_type": "stream",
     "text": [
      "Traceback (most recent call last):\n",
      "  File \"/Users/utkarsh.verma/opt/anaconda3/lib/python3.8/site-packages/kerastuner/engine/hypermodel.py\", line 104, in build\n",
      "    model = self.hypermodel.build(hp)\n",
      "  File \"<ipython-input-214-c477df2ef153>\", line 18, in build\n",
      "    model.add(Embedding(input_dim = vocab_len, output_dim = emb_dim, input_length = 42, trainable = False).set_weights([emb_matrix]))\n",
      "  File \"/Users/utkarsh.verma/opt/anaconda3/lib/python3.8/site-packages/tensorflow/python/keras/engine/base_layer.py\", line 1806, in set_weights\n",
      "    raise ValueError(\n",
      "ValueError: You called `set_weights(weights)` on layer \"embedding_1\" with a weight list of length 1, but the layer was expecting 0 weights. Provided weights: [array([[ 0.      ,  0.      ,  0.      , ...,  0....\n"
     ]
    },
    {
     "ename": "RuntimeError",
     "evalue": "Too many failed attempts to build model.",
     "output_type": "error",
     "traceback": [
      "\u001b[0;31m---------------------------------------------------------------------------\u001b[0m",
      "\u001b[0;31mValueError\u001b[0m                                Traceback (most recent call last)",
      "\u001b[0;32m~/opt/anaconda3/lib/python3.8/site-packages/kerastuner/engine/hypermodel.py\u001b[0m in \u001b[0;36mbuild\u001b[0;34m(self, hp)\u001b[0m\n\u001b[1;32m    103\u001b[0m                 \u001b[0;32mwith\u001b[0m \u001b[0mmaybe_distribute\u001b[0m\u001b[0;34m(\u001b[0m\u001b[0mself\u001b[0m\u001b[0;34m.\u001b[0m\u001b[0mdistribution_strategy\u001b[0m\u001b[0;34m)\u001b[0m\u001b[0;34m:\u001b[0m\u001b[0;34m\u001b[0m\u001b[0;34m\u001b[0m\u001b[0m\n\u001b[0;32m--> 104\u001b[0;31m                     \u001b[0mmodel\u001b[0m \u001b[0;34m=\u001b[0m \u001b[0mself\u001b[0m\u001b[0;34m.\u001b[0m\u001b[0mhypermodel\u001b[0m\u001b[0;34m.\u001b[0m\u001b[0mbuild\u001b[0m\u001b[0;34m(\u001b[0m\u001b[0mhp\u001b[0m\u001b[0;34m)\u001b[0m\u001b[0;34m\u001b[0m\u001b[0;34m\u001b[0m\u001b[0m\n\u001b[0m\u001b[1;32m    105\u001b[0m             \u001b[0;32mexcept\u001b[0m\u001b[0;34m:\u001b[0m\u001b[0;34m\u001b[0m\u001b[0;34m\u001b[0m\u001b[0m\n",
      "\u001b[0;32m<ipython-input-214-c477df2ef153>\u001b[0m in \u001b[0;36mbuild\u001b[0;34m(self, hp)\u001b[0m\n\u001b[1;32m     17\u001b[0m         \u001b[0membeddings\u001b[0m \u001b[0;34m=\u001b[0m \u001b[0membedding_layer\u001b[0m\u001b[0;34m(\u001b[0m\u001b[0minput_tensor\u001b[0m\u001b[0;34m)\u001b[0m\u001b[0;34m\u001b[0m\u001b[0;34m\u001b[0m\u001b[0m\n\u001b[0;32m---> 18\u001b[0;31m         \u001b[0mmodel\u001b[0m\u001b[0;34m.\u001b[0m\u001b[0madd\u001b[0m\u001b[0;34m(\u001b[0m\u001b[0mEmbedding\u001b[0m\u001b[0;34m(\u001b[0m\u001b[0minput_dim\u001b[0m \u001b[0;34m=\u001b[0m \u001b[0mvocab_len\u001b[0m\u001b[0;34m,\u001b[0m \u001b[0moutput_dim\u001b[0m \u001b[0;34m=\u001b[0m \u001b[0memb_dim\u001b[0m\u001b[0;34m,\u001b[0m \u001b[0minput_length\u001b[0m \u001b[0;34m=\u001b[0m \u001b[0;36m42\u001b[0m\u001b[0;34m,\u001b[0m \u001b[0mtrainable\u001b[0m \u001b[0;34m=\u001b[0m \u001b[0;32mFalse\u001b[0m\u001b[0;34m)\u001b[0m\u001b[0;34m.\u001b[0m\u001b[0mset_weights\u001b[0m\u001b[0;34m(\u001b[0m\u001b[0;34m[\u001b[0m\u001b[0memb_matrix\u001b[0m\u001b[0;34m]\u001b[0m\u001b[0;34m)\u001b[0m\u001b[0;34m)\u001b[0m\u001b[0;34m\u001b[0m\u001b[0;34m\u001b[0m\u001b[0m\n\u001b[0m\u001b[1;32m     19\u001b[0m         \u001b[0mmodel\u001b[0m\u001b[0;34m.\u001b[0m\u001b[0madd\u001b[0m\u001b[0;34m(\u001b[0m\u001b[0mLSTM\u001b[0m\u001b[0;34m(\u001b[0m\u001b[0;36m128\u001b[0m\u001b[0;34m,\u001b[0m \u001b[0mreturn_sequences\u001b[0m\u001b[0;34m=\u001b[0m\u001b[0;32mTrue\u001b[0m\u001b[0;34m)\u001b[0m\u001b[0;34m)\u001b[0m\u001b[0;34m\u001b[0m\u001b[0;34m\u001b[0m\u001b[0m\n",
      "\u001b[0;32m~/opt/anaconda3/lib/python3.8/site-packages/tensorflow/python/keras/engine/base_layer.py\u001b[0m in \u001b[0;36mset_weights\u001b[0;34m(self, weights)\u001b[0m\n\u001b[1;32m   1805\u001b[0m     \u001b[0;32mif\u001b[0m \u001b[0mexpected_num_weights\u001b[0m \u001b[0;34m!=\u001b[0m \u001b[0mlen\u001b[0m\u001b[0;34m(\u001b[0m\u001b[0mweights\u001b[0m\u001b[0;34m)\u001b[0m\u001b[0;34m:\u001b[0m\u001b[0;34m\u001b[0m\u001b[0;34m\u001b[0m\u001b[0m\n\u001b[0;32m-> 1806\u001b[0;31m       raise ValueError(\n\u001b[0m\u001b[1;32m   1807\u001b[0m           \u001b[0;34m'You called `set_weights(weights)` on layer \"%s\" '\u001b[0m\u001b[0;34m\u001b[0m\u001b[0;34m\u001b[0m\u001b[0m\n",
      "\u001b[0;31mValueError\u001b[0m: You called `set_weights(weights)` on layer \"embedding_1\" with a weight list of length 1, but the layer was expecting 0 weights. Provided weights: [array([[ 0.      ,  0.      ,  0.      , ...,  0....",
      "\nDuring handling of the above exception, another exception occurred:\n",
      "\u001b[0;31mRuntimeError\u001b[0m                              Traceback (most recent call last)",
      "\u001b[0;32m<ipython-input-215-3e0460bda686>\u001b[0m in \u001b[0;36m<module>\u001b[0;34m\u001b[0m\n\u001b[1;32m      3\u001b[0m \u001b[0mMAX_TRIALS\u001b[0m\u001b[0;34m=\u001b[0m\u001b[0;36m20\u001b[0m\u001b[0;34m\u001b[0m\u001b[0;34m\u001b[0m\u001b[0m\n\u001b[1;32m      4\u001b[0m \u001b[0mEXECUTION_PER_TRIAL\u001b[0m\u001b[0;34m=\u001b[0m\u001b[0;36m2\u001b[0m\u001b[0;34m\u001b[0m\u001b[0;34m\u001b[0m\u001b[0m\n\u001b[0;32m----> 5\u001b[0;31m tuner = RandomSearch(\n\u001b[0m\u001b[1;32m      6\u001b[0m     \u001b[0mhypermodel\u001b[0m\u001b[0;34m,\u001b[0m\u001b[0;34m\u001b[0m\u001b[0;34m\u001b[0m\u001b[0m\n\u001b[1;32m      7\u001b[0m     \u001b[0mobjective\u001b[0m\u001b[0;34m=\u001b[0m\u001b[0;34m'val_accuracy'\u001b[0m\u001b[0;34m,\u001b[0m\u001b[0;34m\u001b[0m\u001b[0;34m\u001b[0m\u001b[0m\n",
      "\u001b[0;32m~/opt/anaconda3/lib/python3.8/site-packages/kerastuner/tuners/randomsearch.py\u001b[0m in \u001b[0;36m__init__\u001b[0;34m(self, hypermodel, objective, max_trials, seed, hyperparameters, tune_new_entries, allow_new_entries, **kwargs)\u001b[0m\n\u001b[1;32m    132\u001b[0m             \u001b[0mtune_new_entries\u001b[0m\u001b[0;34m=\u001b[0m\u001b[0mtune_new_entries\u001b[0m\u001b[0;34m,\u001b[0m\u001b[0;34m\u001b[0m\u001b[0;34m\u001b[0m\u001b[0m\n\u001b[1;32m    133\u001b[0m             allow_new_entries=allow_new_entries)\n\u001b[0;32m--> 134\u001b[0;31m         super(RandomSearch, self).__init__(\n\u001b[0m\u001b[1;32m    135\u001b[0m             \u001b[0moracle\u001b[0m\u001b[0;34m,\u001b[0m\u001b[0;34m\u001b[0m\u001b[0;34m\u001b[0m\u001b[0m\n\u001b[1;32m    136\u001b[0m             \u001b[0mhypermodel\u001b[0m\u001b[0;34m,\u001b[0m\u001b[0;34m\u001b[0m\u001b[0;34m\u001b[0m\u001b[0m\n",
      "\u001b[0;32m~/opt/anaconda3/lib/python3.8/site-packages/kerastuner/engine/multi_execution_tuner.py\u001b[0m in \u001b[0;36m__init__\u001b[0;34m(self, oracle, hypermodel, executions_per_trial, **kwargs)\u001b[0m\n\u001b[1;32m     56\u001b[0m                  \u001b[0mexecutions_per_trial\u001b[0m\u001b[0;34m=\u001b[0m\u001b[0;36m1\u001b[0m\u001b[0;34m,\u001b[0m\u001b[0;34m\u001b[0m\u001b[0;34m\u001b[0m\u001b[0m\n\u001b[1;32m     57\u001b[0m                  **kwargs):\n\u001b[0;32m---> 58\u001b[0;31m         super(MultiExecutionTuner, self).__init__(\n\u001b[0m\u001b[1;32m     59\u001b[0m             oracle, hypermodel, **kwargs)\n\u001b[1;32m     60\u001b[0m         \u001b[0;32mif\u001b[0m \u001b[0misinstance\u001b[0m\u001b[0;34m(\u001b[0m\u001b[0moracle\u001b[0m\u001b[0;34m.\u001b[0m\u001b[0mobjective\u001b[0m\u001b[0;34m,\u001b[0m \u001b[0mlist\u001b[0m\u001b[0;34m)\u001b[0m\u001b[0;34m:\u001b[0m\u001b[0;34m\u001b[0m\u001b[0;34m\u001b[0m\u001b[0m\n",
      "\u001b[0;32m~/opt/anaconda3/lib/python3.8/site-packages/kerastuner/engine/tuner.py\u001b[0m in \u001b[0;36m__init__\u001b[0;34m(self, oracle, hypermodel, max_model_size, optimizer, loss, metrics, distribution_strategy, directory, project_name, logger, tuner_id, overwrite)\u001b[0m\n\u001b[1;32m     98\u001b[0m                 distribution_strategy=distribution_strategy)\n\u001b[1;32m     99\u001b[0m \u001b[0;34m\u001b[0m\u001b[0m\n\u001b[0;32m--> 100\u001b[0;31m         super(Tuner, self).__init__(oracle=oracle,\n\u001b[0m\u001b[1;32m    101\u001b[0m                                     \u001b[0mhypermodel\u001b[0m\u001b[0;34m=\u001b[0m\u001b[0mhypermodel\u001b[0m\u001b[0;34m,\u001b[0m\u001b[0;34m\u001b[0m\u001b[0;34m\u001b[0m\u001b[0m\n\u001b[1;32m    102\u001b[0m                                     \u001b[0mdirectory\u001b[0m\u001b[0;34m=\u001b[0m\u001b[0mdirectory\u001b[0m\u001b[0;34m,\u001b[0m\u001b[0;34m\u001b[0m\u001b[0;34m\u001b[0m\u001b[0m\n",
      "\u001b[0;32m~/opt/anaconda3/lib/python3.8/site-packages/kerastuner/engine/base_tuner.py\u001b[0m in \u001b[0;36m__init__\u001b[0;34m(self, oracle, hypermodel, directory, project_name, logger, overwrite)\u001b[0m\n\u001b[1;32m     88\u001b[0m         \u001b[0mself\u001b[0m\u001b[0;34m.\u001b[0m\u001b[0m_display\u001b[0m \u001b[0;34m=\u001b[0m \u001b[0mtuner_utils\u001b[0m\u001b[0;34m.\u001b[0m\u001b[0mDisplay\u001b[0m\u001b[0;34m(\u001b[0m\u001b[0moracle\u001b[0m\u001b[0;34m=\u001b[0m\u001b[0mself\u001b[0m\u001b[0;34m.\u001b[0m\u001b[0moracle\u001b[0m\u001b[0;34m)\u001b[0m\u001b[0;34m\u001b[0m\u001b[0;34m\u001b[0m\u001b[0m\n\u001b[1;32m     89\u001b[0m \u001b[0;34m\u001b[0m\u001b[0m\n\u001b[0;32m---> 90\u001b[0;31m         \u001b[0mself\u001b[0m\u001b[0;34m.\u001b[0m\u001b[0m_populate_initial_space\u001b[0m\u001b[0;34m(\u001b[0m\u001b[0;34m)\u001b[0m\u001b[0;34m\u001b[0m\u001b[0;34m\u001b[0m\u001b[0m\n\u001b[0m\u001b[1;32m     91\u001b[0m \u001b[0;34m\u001b[0m\u001b[0m\n\u001b[1;32m     92\u001b[0m         \u001b[0;32mif\u001b[0m \u001b[0;32mnot\u001b[0m \u001b[0moverwrite\u001b[0m \u001b[0;32mand\u001b[0m \u001b[0mtf\u001b[0m\u001b[0;34m.\u001b[0m\u001b[0mio\u001b[0m\u001b[0;34m.\u001b[0m\u001b[0mgfile\u001b[0m\u001b[0;34m.\u001b[0m\u001b[0mexists\u001b[0m\u001b[0;34m(\u001b[0m\u001b[0mself\u001b[0m\u001b[0;34m.\u001b[0m\u001b[0m_get_tuner_fname\u001b[0m\u001b[0;34m(\u001b[0m\u001b[0;34m)\u001b[0m\u001b[0;34m)\u001b[0m\u001b[0;34m:\u001b[0m\u001b[0;34m\u001b[0m\u001b[0;34m\u001b[0m\u001b[0m\n",
      "\u001b[0;32m~/opt/anaconda3/lib/python3.8/site-packages/kerastuner/engine/base_tuner.py\u001b[0m in \u001b[0;36m_populate_initial_space\u001b[0;34m(self)\u001b[0m\n\u001b[1;32m    103\u001b[0m         \"\"\"\n\u001b[1;32m    104\u001b[0m         \u001b[0mhp\u001b[0m \u001b[0;34m=\u001b[0m \u001b[0mself\u001b[0m\u001b[0;34m.\u001b[0m\u001b[0moracle\u001b[0m\u001b[0;34m.\u001b[0m\u001b[0mget_space\u001b[0m\u001b[0;34m(\u001b[0m\u001b[0;34m)\u001b[0m\u001b[0;34m\u001b[0m\u001b[0;34m\u001b[0m\u001b[0m\n\u001b[0;32m--> 105\u001b[0;31m         \u001b[0mself\u001b[0m\u001b[0;34m.\u001b[0m\u001b[0mhypermodel\u001b[0m\u001b[0;34m.\u001b[0m\u001b[0mbuild\u001b[0m\u001b[0;34m(\u001b[0m\u001b[0mhp\u001b[0m\u001b[0;34m)\u001b[0m\u001b[0;34m\u001b[0m\u001b[0;34m\u001b[0m\u001b[0m\n\u001b[0m\u001b[1;32m    106\u001b[0m         \u001b[0mself\u001b[0m\u001b[0;34m.\u001b[0m\u001b[0moracle\u001b[0m\u001b[0;34m.\u001b[0m\u001b[0mupdate_space\u001b[0m\u001b[0;34m(\u001b[0m\u001b[0mhp\u001b[0m\u001b[0;34m)\u001b[0m\u001b[0;34m\u001b[0m\u001b[0;34m\u001b[0m\u001b[0m\n\u001b[1;32m    107\u001b[0m \u001b[0;34m\u001b[0m\u001b[0m\n",
      "\u001b[0;32m~/opt/anaconda3/lib/python3.8/site-packages/kerastuner/engine/hypermodel.py\u001b[0m in \u001b[0;36m_build_wrapper\u001b[0;34m(self, hp, *args, **kwargs)\u001b[0m\n\u001b[1;32m     62\u001b[0m             \u001b[0;31m# to the search space.\u001b[0m\u001b[0;34m\u001b[0m\u001b[0;34m\u001b[0m\u001b[0;34m\u001b[0m\u001b[0m\n\u001b[1;32m     63\u001b[0m             \u001b[0mhp\u001b[0m \u001b[0;34m=\u001b[0m \u001b[0mhp\u001b[0m\u001b[0;34m.\u001b[0m\u001b[0mcopy\u001b[0m\u001b[0;34m(\u001b[0m\u001b[0;34m)\u001b[0m\u001b[0;34m\u001b[0m\u001b[0;34m\u001b[0m\u001b[0m\n\u001b[0;32m---> 64\u001b[0;31m         \u001b[0;32mreturn\u001b[0m \u001b[0mself\u001b[0m\u001b[0;34m.\u001b[0m\u001b[0m_build\u001b[0m\u001b[0;34m(\u001b[0m\u001b[0mhp\u001b[0m\u001b[0;34m,\u001b[0m \u001b[0;34m*\u001b[0m\u001b[0margs\u001b[0m\u001b[0;34m,\u001b[0m \u001b[0;34m**\u001b[0m\u001b[0mkwargs\u001b[0m\u001b[0;34m)\u001b[0m\u001b[0;34m\u001b[0m\u001b[0;34m\u001b[0m\u001b[0m\n\u001b[0m\u001b[1;32m     65\u001b[0m \u001b[0;34m\u001b[0m\u001b[0m\n\u001b[1;32m     66\u001b[0m \u001b[0;34m\u001b[0m\u001b[0m\n",
      "\u001b[0;32m~/opt/anaconda3/lib/python3.8/site-packages/kerastuner/engine/hypermodel.py\u001b[0m in \u001b[0;36mbuild\u001b[0;34m(self, hp)\u001b[0m\n\u001b[1;32m    110\u001b[0m \u001b[0;34m\u001b[0m\u001b[0m\n\u001b[1;32m    111\u001b[0m                 \u001b[0;32mif\u001b[0m \u001b[0mi\u001b[0m \u001b[0;34m==\u001b[0m \u001b[0mself\u001b[0m\u001b[0;34m.\u001b[0m\u001b[0m_max_fail_streak\u001b[0m\u001b[0;34m:\u001b[0m\u001b[0;34m\u001b[0m\u001b[0;34m\u001b[0m\u001b[0m\n\u001b[0;32m--> 112\u001b[0;31m                     raise RuntimeError(\n\u001b[0m\u001b[1;32m    113\u001b[0m                         'Too many failed attempts to build model.')\n\u001b[1;32m    114\u001b[0m                 \u001b[0;32mcontinue\u001b[0m\u001b[0;34m\u001b[0m\u001b[0;34m\u001b[0m\u001b[0m\n",
      "\u001b[0;31mRuntimeError\u001b[0m: Too many failed attempts to build model."
     ]
    }
   ],
   "source": [
    "from kerastuner.tuners import RandomSearch\n",
    "SEED = 1\n",
    "MAX_TRIALS=20\n",
    "EXECUTION_PER_TRIAL=2\n",
    "tuner = RandomSearch(\n",
    "    hypermodel,\n",
    "    objective='val_accuracy',\n",
    "    seed=SEED,\n",
    "    max_trials=MAX_TRIALS,\n",
    "    executions_per_trial=EXECUTION_PER_TRIAL,\n",
    "    directory='random_search',\n",
    "    project_name='cifar10'\n",
    ")"
   ]
  },
  {
   "cell_type": "code",
   "execution_count": 80,
   "metadata": {},
   "outputs": [],
   "source": [
    "import re\n",
    "from nltk.corpus import stopwords\n",
    "from nltk.stem.porter import PorterStemmer\n",
    "\n",
    "ps = PorterStemmer()\n",
    "corpus = []\n",
    "for i in range(x_train.shape[0]):\n",
    "    review_text = re.sub('[^a-zA-Z]', ' ', x_train[i])\n",
    "    review_text = review_text.lower()\n",
    "    review_text = review_text.split()\n",
    "    review_text = [ps.stem(word) for word in review_text if not word in set(stopwords.words('english'))]\n",
    "    review_text = ' '.join(review_text)\n",
    "    corpus.append(review_text)\n",
    "    \n",
    "# Creating the Bag of Words model\n",
    "from sklearn.feature_extraction.text import CountVectorizer,TfidfVectorizer\n",
    "cv = CountVectorizer(max_features = 1500)\n",
    "cv_tf = TfidfVectorizer()\n",
    "X = cv.fit_transform(corpus).toarray()\n",
    "X_tf = cv_tf.fit_transform(corpus).toarray()"
   ]
  },
  {
   "cell_type": "code",
   "execution_count": 99,
   "metadata": {},
   "outputs": [],
   "source": [
    "# RNN Model to learn(For input vector of BOW & TFIDF)\n",
    "\n",
    "\n",
    "\n",
    "\n",
    "def model_tf_bw(x_train,y_train,word_to_vec_map,learning_rate=0.001,ite=800):\n",
    "    #forward propagation\n",
    "    C=5\n",
    "    n_y=5\n",
    "    b = np.zeros((5,1))\n",
    "    W = np.random.randn(5, 1017) / np.sqrt(1017)\n",
    "    Y_oh = convert_to_one_hot(y_train,C)\n",
    "    for t in range(ite):                       \n",
    "        for i in range(x_train.shape[0]):                                \n",
    "            #avg = avgvec(x_train[i], word_to_vec_map)\n",
    "            z = np.dot(W,X[i].reshape(1017,1))+ b \n",
    "            a = softmax(z)\n",
    "            # Compute cost using the i'th training label's one hot representation and \"A\" (the output of the softmax)\n",
    "            cost = -np.log(a)*Y_oh[i]\n",
    "            # Compute gradients \n",
    "            dz = a.reshape(5,1) - Y_oh[i].reshape(5,1)\n",
    "            dW = np.dot(dz.reshape(n_y,1), X[i].reshape(1, 1017))\n",
    "            db = dz\n",
    "\n",
    "            # Update parameters with Stochastic Gradient Descent\n",
    "            W = W - learning_rate * dW\n",
    "            b = b - learning_rate * db\n",
    "        \n",
    "        if t % 100 == 0:\n",
    "            print(\"Epoch: \" + str(t) + \" --- cost = \" + str(cost))\n",
    "            pred = predict(x_train, y_train, W, b, word_to_vec_map)\n",
    "    return W, b, pred      \n",
    "    "
   ]
  },
  {
   "cell_type": "code",
   "execution_count": null,
   "metadata": {},
   "outputs": [],
   "source": []
  }
 ],
 "metadata": {
  "kernelspec": {
   "display_name": "Python 3",
   "language": "python",
   "name": "python3"
  },
  "language_info": {
   "codemirror_mode": {
    "name": "ipython",
    "version": 3
   },
   "file_extension": ".py",
   "mimetype": "text/x-python",
   "name": "python",
   "nbconvert_exporter": "python",
   "pygments_lexer": "ipython3",
   "version": "3.8.3"
  }
 },
 "nbformat": 4,
 "nbformat_minor": 4
}
